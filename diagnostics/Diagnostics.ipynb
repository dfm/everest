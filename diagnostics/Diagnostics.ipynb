{
 "cells": [
  {
   "cell_type": "markdown",
   "metadata": {},
   "source": [
    "# Everest 2 Diagnostics"
   ]
  },
  {
   "cell_type": "markdown",
   "metadata": {},
   "source": [
    "## Optimizing the number of neighbors\n",
    "Looks like the more neighbors you add, the better you do at the faint end but the worse you do at the bright end. I imagine that this is because adding more stars reduces the amplitude of the regularization parameter, so you end up decreasing the weight of the star's own pixel vectors. For faint stars that's OK, since there's not that much information in them, but for bright stars you end up losing de-trending power. The plot below is the **estats** output comparing a run with 10 neighbors and a run with 50 neighbors. It is clear that 10 neighbors is the way to go.\n",
    "![10 vs 50 neighbors](images/number_of_neighbors.png \"10 vs 50 neighbors\")"
   ]
  },
  {
   "cell_type": "markdown",
   "metadata": {
    "collapsed": true
   },
   "source": [
    "## Neighboring PLD\n",
    "Plotted below is the comparison between the nPLD(PLD) results (blue) and the Everest 1.0 results (yellow). I've zoomed in on the relative CDPP plot on the right. It looks awesome. Ignore the saturated stars, since I wasn't yet implementing column collapse -- stars brighter than mag 11 are definitely being overfit (issue resolved now!). My current goal is to reproduce this *without* running PLD beforehand to get a factor of 2 speed boost. ![Original nPLD](images/nPLD_original.png \"Original nPLD\")"
   ]
  },
  {
   "cell_type": "markdown",
   "metadata": {
    "collapsed": true
   },
   "source": [
    "## Super-detrended cloud\n",
    "There is a cloud of super-detrended stars just below magnitude 11.5. These stars did not have their columns collapsed since they were just shy of the saturation threshold. Based on the ratio of their max pixel flux to the saturation flux (see list below), I suggest a threshold of -10% when collapsing columns.\n",
    "\n",
    "![Super-detrended](images/super_detrended.png \"Super-detrended\")\n",
    "\n",
    "```0.940860801777, 0.919384317658, 0.944862331189, 0.958934950546, 0.93954328125, 0.946145564303, 0.96732639277, 0.946067420072, 0.944256371287, 0.85614310767, 0.956884969351, 0.931195326593, 0.892291594039, 0.895342764563, 0.940960196554, 0.984913263267, 0.926170642072```"
   ]
  },
  {
   "cell_type": "code",
   "execution_count": null,
   "metadata": {
    "collapsed": true
   },
   "outputs": [],
   "source": []
  }
 ],
 "metadata": {
  "kernelspec": {
   "display_name": "Python 3",
   "language": "python",
   "name": "python3"
  },
  "language_info": {
   "codemirror_mode": {
    "name": "ipython",
    "version": 3
   },
   "file_extension": ".py",
   "mimetype": "text/x-python",
   "name": "python",
   "nbconvert_exporter": "python",
   "pygments_lexer": "ipython3",
   "version": "3.4.5"
  }
 },
 "nbformat": 4,
 "nbformat_minor": 0
}
